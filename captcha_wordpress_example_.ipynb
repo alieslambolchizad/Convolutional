{
  "cells": [
    {
      "cell_type": "code",
      "execution_count": null,
      "metadata": {
        "colab": {
          "base_uri": "https://localhost:8080/"
        },
        "id": "s2D5cj9X7luP",
        "outputId": "79015105-4363-4bfc-9f88-c511129dbedf"
      },
      "outputs": [
        {
          "output_type": "stream",
          "name": "stdout",
          "text": [
            "Drive already mounted at /content/drive; to attempt to forcibly remount, call drive.mount(\"/content/drive\", force_remount=True).\n"
          ]
        }
      ],
      "source": [
        "\n",
        "from google.colab import drive\n",
        "drive.mount('/content/drive')\n"
      ]
    },
    {
      "cell_type": "code",
      "execution_count": null,
      "metadata": {
        "id": "WSDel7Li7mx0"
      },
      "outputs": [],
      "source": [
        "!cp /content/drive/MyDrive/database/captcha-samples-wordpress.zip ./\n"
      ]
    },
    {
      "cell_type": "code",
      "execution_count": null,
      "metadata": {
        "colab": {
          "base_uri": "https://localhost:8080/"
        },
        "id": "J9fJun4C8IAt",
        "outputId": "1b259347-d99b-4099-e25a-bccec0c0004e"
      },
      "outputs": [
        {
          "output_type": "stream",
          "name": "stdout",
          "text": [
            "Archive:  captcha-samples-wordpress.zip\n",
            "replace test/UL8M.png? [y]es, [n]o, [A]ll, [N]one, [r]ename: "
          ]
        }
      ],
      "source": [
        "!unzip captcha-samples-wordpress.zip"
      ]
    },
    {
      "cell_type": "code",
      "execution_count": null,
      "metadata": {
        "id": "peToUjAM8WxU",
        "colab": {
          "base_uri": "https://localhost:8080/"
        },
        "outputId": "3caad33d-c150-4a64-a1dc-07e99670b81e"
      },
      "outputs": [
        {
          "output_type": "stream",
          "name": "stdout",
          "text": [
            "9844\n"
          ]
        }
      ],
      "source": [
        "!ls -1 train/ | wc -l"
      ]
    },
    {
      "cell_type": "code",
      "execution_count": null,
      "metadata": {
        "id": "f1tBggqn8iSM"
      },
      "outputs": [],
      "source": [
        "from keras.models import Sequential\n",
        "from keras.layers import Dense\n",
        "from keras.layers import Input\n",
        "from keras.layers import Conv2D\n",
        "from keras.layers import MaxPool2D\n",
        "from keras.layers import Flatten\n",
        "import numpy as np\n",
        "import pandas as pd\n",
        "from keras.utils import to_categorical\n",
        "from sklearn.preprocessing import LabelEncoder\n",
        "import pickle\n",
        "import matplotlib.pyplot as plt\n",
        "from keras.datasets import mnist\n",
        "import cv2\n",
        "from glob import glob\n",
        "import os\n",
        "from keras.models import load_model"
      ]
    },
    {
      "cell_type": "code",
      "execution_count": null,
      "metadata": {
        "id": "R1Mx2Q9Q7Rrr",
        "colab": {
          "base_uri": "https://localhost:8080/",
          "height": 246
        },
        "outputId": "f52d6811-c916-4078-a485-34a9cbeb083e"
      },
      "outputs": [
        {
          "output_type": "execute_result",
          "data": {
            "text/plain": [
              "<matplotlib.image.AxesImage at 0x7d85723b5a60>"
            ]
          },
          "metadata": {},
          "execution_count": 71
        },
        {
          "output_type": "display_data",
          "data": {
            "text/plain": [
              "<Figure size 640x480 with 1 Axes>"
            ],
            "image/png": "[encoded data removed]"
          },
          "metadata": {}
        }
      ],
      "source": [
        "im=cv2.imread('train/2D25.png')\n",
        "im=255-cv2.cvtColor(im,cv2.COLOR_BGR2GRAY)/255.0\n",
        "plt.imshow(im,'gray')"
      ]
    },
    {
      "cell_type": "code",
      "execution_count": null,
      "metadata": {
        "id": "3A3UgpAK7W-B"
      },
      "outputs": [],
      "source": [
        "def load_data(p):\n",
        "  pattern=os.path.join(p,'*.png')\n",
        "  files=glob(pattern)\n",
        "  images=[]\n",
        "  targets=[]\n",
        "  for file in files:\n",
        "    chars=list(os.path.splitext(os.path.basename(file))[0])\n",
        "    if len(chars)!=4:\n",
        "      continue\n",
        "    targets.append(chars)\n",
        "    im=cv2.imread(file)\n",
        "    im=(255-cv2.cvtColor(im,cv2.COLOR_BGR2GRAY))/255.0\n",
        "    images.append(im)\n",
        "  images=np.array(images,ndmin=3)\n",
        "  targets=np.array(targets,ndmin=2)\n",
        "  return images,targets"
      ]
    },
    {
      "cell_type": "code",
      "execution_count": null,
      "metadata": {
        "id": "h8xKrQjh9g78",
        "colab": {
          "base_uri": "https://localhost:8080/"
        },
        "outputId": "122a780c-fee2-421f-b16b-1223f456da2d"
      },
      "outputs": [
        {
          "output_type": "stream",
          "name": "stdout",
          "text": [
            "(9843, 24, 72) (9843, 4)\n",
            "(100, 24, 72) (100, 4)\n"
          ]
        }
      ],
      "source": [
        "X,Y=load_data('train/')\n",
        "X_test,Y_test=load_data('test/')\n",
        "print(X.shape,Y.shape)\n",
        "print(X_test.shape,Y_test.shape)"
      ]
    },
    {
      "cell_type": "code",
      "source": [
        "encoder=LabelEncoder()\n",
        "Y_encoded=encoder.fit(Y.reshape(-1))\n",
        "with open('encoder.bin','wb') as f:\n",
        "  pickle.dump(encoder,f)"
      ],
      "metadata": {
        "id": "J0dje2UNia30"
      },
      "execution_count": null,
      "outputs": []
    },
    {
      "cell_type": "code",
      "source": [
        "Y_encoded=encoder.transform(Y.reshape(-1)).reshape(-1,4)\n",
        "Y_encoded_test=encoder.transform(Y_test.reshape(-1)).reshape(-1,4)\n",
        "print(Y_encoded.shape)"
      ],
      "metadata": {
        "colab": {
          "base_uri": "https://localhost:8080/"
        },
        "id": "bjGmnD6QVBZj",
        "outputId": "63da070f-a961-43f3-956b-06bd46603b00"
      },
      "execution_count": null,
      "outputs": [
        {
          "output_type": "stream",
          "name": "stdout",
          "text": [
            "(9843, 4)\n"
          ]
        }
      ]
    },
    {
      "cell_type": "code",
      "source": [
        "def build_model():\n",
        "  model=Sequential()\n",
        "  model.add(Input(shape=(24, 72,1)))\n",
        "  model.add(Conv2D(4,(3,3),padding='same'))\n",
        "  model.add(Conv2D(8,(3,3),padding='same'))\n",
        "  model.add(MaxPool2D(2,2))\n",
        "  model.add(Conv2D(16,(3,3),padding='same'))\n",
        "  model.add(Conv2D(32,(3,3),padding='same'))\n",
        "  model.add(Flatten())\n",
        "  model.add(Dense(512,activation='relu'))\n",
        "  model.add(Dense(128,activation='relu'))\n",
        "  model.add(Dense(32,activation='softmax'))\n",
        "  model.compile(optimizer='adam',loss='categorical_crossentropy',metrics=['accuracy'])\n",
        "  return model\n",
        "def fit_images(X,Y,XT,YT):\n",
        "  yt=to_categorical(Y)\n",
        "  yt_test=to_categorical(YT)\n",
        "  model=build_model()\n",
        "  H=model.fit(X,yt,validation_data=(XT,yt_test),epochs=30,verbose=False)\n",
        "  train_acc=model.evaluate(X,yt)\n",
        "  test_acc=model.evaluate(XT,yt_test)\n",
        "  return model,train_acc,test_acc"
      ],
      "metadata": {
        "id": "i0mGBnHgYMeh"
      },
      "execution_count": null,
      "outputs": []
    },
    {
      "cell_type": "code",
      "source": [
        "models=[]\n",
        "for i in range(4):\n",
        "  model=fit_images(X,Y_encoded[:,i],X_test,Y_encoded_test[:,i])\n",
        "  models.append(model)\n"
      ],
      "metadata": {
        "colab": {
          "base_uri": "https://localhost:8080/"
        },
        "id": "g6Ncl3vSeRpv",
        "outputId": "760e92cf-37a8-443d-f2d7-e0b9c91d7725"
      },
      "execution_count": null,
      "outputs": [
        {
          "output_type": "stream",
          "name": "stdout",
          "text": [
            "\u001b[1m308/308\u001b[0m \u001b[32m━━━━━━━━━━━━━━━━━━━━\u001b[0m\u001b[37m\u001b[0m \u001b[1m1s\u001b[0m 4ms/step - accuracy: 0.9994 - loss: 9.5774e-04\n",
            "\u001b[1m4/4\u001b[0m \u001b[32m━━━━━━━━━━━━━━━━━━━━\u001b[0m\u001b[37m\u001b[0m \u001b[1m0s\u001b[0m 8ms/step - accuracy: 1.0000 - loss: 6.7359e-04\n",
            "\u001b[1m308/308\u001b[0m \u001b[32m━━━━━━━━━━━━━━━━━━━━\u001b[0m\u001b[37m\u001b[0m \u001b[1m2s\u001b[0m 5ms/step - accuracy: 0.9919 - loss: 0.0301\n",
            "\u001b[1m4/4\u001b[0m \u001b[32m━━━━━━━━━━━━━━━━━━━━\u001b[0m\u001b[37m\u001b[0m \u001b[1m0s\u001b[0m 11ms/step - accuracy: 1.0000 - loss: 3.8280e-04\n",
            "\u001b[1m308/308\u001b[0m \u001b[32m━━━━━━━━━━━━━━━━━━━━\u001b[0m\u001b[37m\u001b[0m \u001b[1m1s\u001b[0m 4ms/step - accuracy: 0.9992 - loss: 0.0016\n",
            "\u001b[1m4/4\u001b[0m \u001b[32m━━━━━━━━━━━━━━━━━━━━\u001b[0m\u001b[37m\u001b[0m \u001b[1m0s\u001b[0m 11ms/step - accuracy: 1.0000 - loss: 0.0045    \n",
            "\u001b[1m308/308\u001b[0m \u001b[32m━━━━━━━━━━━━━━━━━━━━\u001b[0m\u001b[37m\u001b[0m \u001b[1m1s\u001b[0m 4ms/step - accuracy: 1.0000 - loss: 1.7196e-06\n",
            "\u001b[1m4/4\u001b[0m \u001b[32m━━━━━━━━━━━━━━━━━━━━\u001b[0m\u001b[37m\u001b[0m \u001b[1m0s\u001b[0m 8ms/step - accuracy: 0.9939 - loss: 0.0319     \n"
          ]
        }
      ]
    },
    {
      "cell_type": "code",
      "source": [
        "for i in range(4):\n",
        "  models[i][0].save(f'model_char_{i}.h5')"
      ],
      "metadata": {
        "colab": {
          "base_uri": "https://localhost:8080/"
        },
        "id": "-WLlveMFe56J",
        "outputId": "68d1f176-6924-4ba5-99ae-0e85f1405ae4"
      },
      "execution_count": null,
      "outputs": [
        {
          "output_type": "stream",
          "name": "stderr",
          "text": [
            "WARNING:absl:You are saving your model as an HDF5 file via `model.save()` or `keras.saving.save_model(model)`. This file format is considered legacy. We recommend using instead the native Keras format, e.g. `model.save('my_model.keras')` or `keras.saving.save_model(model, 'my_model.keras')`. \n",
            "WARNING:absl:You are saving your model as an HDF5 file via `model.save()` or `keras.saving.save_model(model)`. This file format is considered legacy. We recommend using instead the native Keras format, e.g. `model.save('my_model.keras')` or `keras.saving.save_model(model, 'my_model.keras')`. \n",
            "WARNING:absl:You are saving your model as an HDF5 file via `model.save()` or `keras.saving.save_model(model)`. This file format is considered legacy. We recommend using instead the native Keras format, e.g. `model.save('my_model.keras')` or `keras.saving.save_model(model, 'my_model.keras')`. \n",
            "WARNING:absl:You are saving your model as an HDF5 file via `model.save()` or `keras.saving.save_model(model)`. This file format is considered legacy. We recommend using instead the native Keras format, e.g. `model.save('my_model.keras')` or `keras.saving.save_model(model, 'my_model.keras')`. \n"
          ]
        }
      ]
    },
    {
      "cell_type": "code",
      "source": [
        "def predict(X):\n",
        "  with open('encoder.bin', 'rb') as f:\n",
        "    encoder = pickle.load(f)\n",
        "  models = []\n",
        "  chars = []\n",
        "  for i in range(4):\n",
        "    models.append(load_model(f'model_char_{i}.h5'))\n",
        "    p = models[-1].predict(X.reshape(1, 24, 72), verbose=False)\n",
        "    p = np.argmax(p)\n",
        "    p = encoder.inverse_transform([p])[0]\n",
        "    chars.append(p)\n",
        "  return \"\".join(chars)\n",
        "\n",
        "def predict_image(path):\n",
        "  im = cv2.imread(path)\n",
        "  im = cv2.cvtColor(im, cv2.COLOR_BGR2GRAY)\n",
        "  im = (255 - im) / 255.0\n",
        "  return predict(im)\n",
        "\n"
      ],
      "metadata": {
        "id": "XuOTD8lTkjhp"
      },
      "execution_count": null,
      "outputs": []
    },
    {
      "cell_type": "code",
      "source": [
        "f = 'test/CFCG.png'\n",
        "out = predict_image(f)\n",
        "out\n"
      ],
      "metadata": {
        "colab": {
          "base_uri": "https://localhost:8080/",
          "height": 126
        },
        "id": "HC8BqTWbn4_x",
        "outputId": "11c14ac9-f1ab-47cd-837c-dfacfb43a43d"
      },
      "execution_count": null,
      "outputs": [
        {
          "output_type": "stream",
          "name": "stderr",
          "text": [
            "WARNING:absl:Compiled the loaded model, but the compiled metrics have yet to be built. `model.compile_metrics` will be empty until you train or evaluate the model.\n",
            "WARNING:absl:Compiled the loaded model, but the compiled metrics have yet to be built. `model.compile_metrics` will be empty until you train or evaluate the model.\n",
            "WARNING:absl:Compiled the loaded model, but the compiled metrics have yet to be built. `model.compile_metrics` will be empty until you train or evaluate the model.\n",
            "WARNING:absl:Compiled the loaded model, but the compiled metrics have yet to be built. `model.compile_metrics` will be empty until you train or evaluate the model.\n"
          ]
        },
        {
          "output_type": "execute_result",
          "data": {
            "text/plain": [
              "'CFCG'"
            ],
            "application/vnd.google.colaboratory.intrinsic+json": {
              "type": "string"
            }
          },
          "metadata": {},
          "execution_count": 82
        }
      ]
    },
    {
      "cell_type": "code",
      "source": [],
      "metadata": {
        "id": "1feKU6yLpM_g"
      },
      "execution_count": null,
      "outputs": []
    }
  ],
  "metadata": {
    "accelerator": "GPU",
    "colab": {
      "gpuType": "T4",
      "provenance": []
    },
    "kernelspec": {
      "display_name": "Python 3",
      "name": "python3"
    },
    "language_info": {
      "name": "python"
    }
  },
  "nbformat": 4,
  "nbformat_minor": 0
}